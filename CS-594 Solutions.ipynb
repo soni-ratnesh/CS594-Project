{
 "cells": [
  {
   "cell_type": "markdown",
   "metadata": {},
   "source": [
    "# CS 594 Project "
   ]
  },
  {
   "cell_type": "code",
   "execution_count": 2,
   "metadata": {},
   "outputs": [],
   "source": [
    "## import lib \n",
    "\n",
    "from helper import read_csv, calculate_spread, calculate_height, filter_points, cal_nn_distance, run_queries, generate_random_queries\n",
    "import numpy as np\n",
    "from tree.points import Point\n",
    "from tree import QuardTree\n",
    "import pandas as pd\n",
    "import time\n",
    "import random\n",
    "import random\n",
    "import time\n",
    "import numpy as np\n",
    "from helper import read_csv, calculate_spread, calculate_height, filter_points\n",
    "import numpy as np\n",
    "from tree.points import Point\n",
    "from tree import QuardTree\n",
    "from tree.quardtreeDynamic import QuardTreeDynamic\n",
    "import pandas as pd\n",
    "import random\n"
   ]
  },
  {
   "cell_type": "markdown",
   "metadata": {},
   "source": [
    "## Question 1"
   ]
  },
  {
   "cell_type": "markdown",
   "metadata": {},
   "source": [
    " Implement the quad-tree (not the compressed one) we have seen in class for the approximate\n",
    " nearest neighbor queries. Your quad-tree should work in any dimension. Let Dquad be the\n",
    " quad tree data structure.\n",
    " In Dataset youwillfindasetofpoints(pleasecopypasteitintoatxtfileinyourmachine).\n",
    " Your code should read this file line by line containing a set P of n points. The first line\n",
    " contains the dimension d, and every other line contains a tuple x1,x2,...,xd that represents\n",
    " the point x ∈ Rd with coordinates x1,...,xd. Your implementation should construct the\n",
    " quadtree for ANN queries (as we have seen in class) over the set of points P. Report the\n",
    " construction time. What is the spread of the point set? What is the height of the tree?\n",
    " Describe the relation between the spread and the height of the tree"
   ]
  },
  {
   "cell_type": "code",
   "execution_count": 22,
   "metadata": {},
   "outputs": [
    {
     "name": "stdout",
     "output_type": "stream",
     "text": [
      "Construction Time : 0.07599735260009766 seconds\n"
     ]
    }
   ],
   "source": [
    "# reading csv file\n",
    "dim, data_points = read_csv(\"./sample_data/data.csv\")\n",
    "\n",
    "# building quard tree\n",
    "st = time.time()\n",
    "qt = QuardTree()\n",
    "qt.build(points=data_points)\n",
    "ed = time.time()\n",
    "\n",
    "print(f\"Construction Time : {ed-st} seconds\")"
   ]
  },
  {
   "cell_type": "code",
   "execution_count": 23,
   "metadata": {},
   "outputs": [
    {
     "name": "stdout",
     "output_type": "stream",
     "text": [
      "Spread of dataset : 15550.613705736101\n",
      "Height of tree: {height}\n",
      "Relationship between spread and height, ceil(log(spread)): 14.0 == height of tree (14)\n"
     ]
    }
   ],
   "source": [
    "## calculating spread and height\n",
    "spread = calculate_spread(data_points)\n",
    "print(f\"Spread of dataset : {spread}\")\n",
    "\n",
    "height = calculate_height(qt.root)\n",
    "print(f\"Height of tree: {height}\")\n",
    "\n",
    "print(f\"Relationship between spread and height, ceil(log(spread)): {np.ceil(np.log2(spread))} == height of tree ({height})\")"
   ]
  },
  {
   "cell_type": "markdown",
   "metadata": {},
   "source": [
    "## Question 2"
   ]
  },
  {
   "cell_type": "code",
   "execution_count": 3,
   "metadata": {},
   "outputs": [
    {
     "name": "stdout",
     "output_type": "stream",
     "text": [
      "{(500, 500): {0.05: 2.2600000000000104, 0.1: 2.2600000000000104, 0.15: 2.2600000000000104, 0.2: 2.2600000000000104, 0.25: 2.2600000000000104}, (1000, 1000): {0.05: 14.780236804598218, 0.1: 14.780236804598218, 0.15: 14.780236804598218, 0.2: 14.780236804598218, 0.25: 14.780236804598218}, (30, 950): {0.05: 10.294003108606482, 0.1: 10.294003108606482, 0.15: 10.294003108606482, 0.2: 10.294003108606482, 0.25: 10.294003108606482}, (0, 1020): {0.05: 31.455937436356948, 0.1: 31.455937436356948, 0.15: 31.455937436356948, 0.2: 31.455937436356948, 0.25: 31.455937436356948}}\n"
     ]
    }
   ],
   "source": [
    "## sample eps and point as given in question\n",
    "epsilons = [0.05, 0.1, 0.15, 0.2, 0.25]\n",
    "points = [Point(500, 500), Point(1000, 1000), Point(30, 950), Point(0, 1020)]\n",
    "\n",
    "distance_ann = cal_nn_distance(points, epsilons)\n",
    "\n",
    "# plot distance \n",
    "pd.DataFrame(distance_ann).plot(kind='bar', xlabel=\"epsilons\", ylabel=\"distances\", title=\"Query Points\")"
   ]
  },
  {
   "cell_type": "code",
   "execution_count": null,
   "metadata": {},
   "outputs": [
    {
     "name": "stdout",
     "output_type": "stream",
     "text": [
      "Average Distance in [0, 1000] x [0, 1000]: 5.038783048977531\n",
      "Average Query Time in [0, 1000] x [0, 1000]: 0.00011115694046020508 seconds\n",
      "Average Distance in [1000, 1500] x [1000, 1500]: 391.12880102089\n",
      "Average Query Time in [1000, 1500] x [1000, 1500]: 8.40003490447998e-05 seconds\n"
     ]
    }
   ],
   "source": [
    "# running random quertines in given boxes for eps=0.1\n",
    "\n",
    "# Set fixed epsilon\n",
    "ep = 0.1\n",
    "\n",
    "# Run queries for the first region [0, 1000] x [0, 1000]\n",
    "region1_min = (0, 0)\n",
    "region1_max = (1000, 1000)\n",
    "avg_distance_region1, avg_query_time_region1 = run_queries(region1_min, region1_max, ep)\n",
    "\n",
    "# Output the results\n",
    "print(f\"Average Distance in [0, 1000] x [0, 1000]: {avg_distance_region1}\")\n",
    "print(f\"Average Query Time in [0, 1000] x [0, 1000]: {avg_query_time_region1} seconds\")\n",
    "\n",
    "# Run queries for the second region [1000, 1500] x [1000, 1500]\n",
    "region2_min = (1000, 1000)\n",
    "region2_max = (1500, 1500)\n",
    "avg_distance_region2, avg_query_time_region2 = run_queries(region2_min, region2_max, ep)\n",
    "\n",
    "\n",
    "print(f\"Average Distance in [1000, 1500] x [1000, 1500]: {avg_distance_region2}\")\n",
    "print(f\"Average Query Time in [1000, 1500] x [1000, 1500]: {avg_query_time_region2} seconds\")\n"
   ]
  },
  {
   "cell_type": "markdown",
   "metadata": {},
   "source": [
    "## Question 3"
   ]
  },
  {
   "cell_type": "markdown",
   "metadata": {},
   "source": [
    "1 . All points within a box\n",
    "2. We will del all points one by one from quard tree"
   ]
  },
  {
   "cell_type": "code",
   "execution_count": 7,
   "metadata": {},
   "outputs": [],
   "source": [
    "from tree.boundingBox import BoundingBox\n",
    "import time"
   ]
  },
  {
   "cell_type": "code",
   "execution_count": 8,
   "metadata": {},
   "outputs": [
    {
     "name": "stdout",
     "output_type": "stream",
     "text": [
      "Average Time  0.00024255779054429795\n"
     ]
    },
    {
     "data": {
      "text/plain": [
       "<Axes: title={'center': 'ANN Query (500,500) result after deletion'}, xlabel='epsilon', ylabel='distance'>"
      ]
     },
     "execution_count": 8,
     "metadata": {},
     "output_type": "execute_result"
    },
    {
     "data": {
      "image/png": "[encoded data removed]",
      "text/plain": [
       "<Figure size 640x480 with 1 Axes>"
      ]
     },
     "metadata": {},
     "output_type": "display_data"
    }
   ],
   "source": [
    "## Delete all outputs for given boxes\n",
    "\n",
    "### given bounding box\n",
    "bounding_box = BoundingBox(x_min=450, x_max=550, y_min=450, y_max=550)\n",
    "# findinal all points to delete\n",
    "filtered_points = filter_points(data_points, bounding_box=bounding_box)\n",
    "\n",
    "# deleteting all points that are in the given box\n",
    "st = time.time()\n",
    "for point in filtered_points:\n",
    "    qt.delete(point)\n",
    "ed = time.time()\n",
    "\n",
    "avg_time = (ed-st)/len(filtered_points)\n",
    "print(\"Average Deletion Time for all points in box [450, 550] X [450, 550] \", avg_time)\n",
    "\n",
    "# plot as in question 2\n",
    "n_distance = cal_nn_distance([Point(500, 500)], epsilons)\n",
    "pd.DataFrame(n_distance).plot(kind='bar', xlabel='epsilon', ylabel='distance', title='ANN Query (500,500) result after deletion')"
   ]
  },
  {
   "cell_type": "code",
   "execution_count": 9,
   "metadata": {},
   "outputs": [
    {
     "name": "stdout",
     "output_type": "stream",
     "text": [
      "Average Time  0.00027678268296378\n"
     ]
    },
    {
     "data": {
      "text/plain": [
       "<Axes: title={'center': 'ANN Query (1000,1000) result after deletion'}, xlabel='epsilon', ylabel='distance'>"
      ]
     },
     "execution_count": 9,
     "metadata": {},
     "output_type": "execute_result"
    },
    {
     "data": {
      "image/png": "[encoded data removed]",
      "text/plain": [
       "<Figure size 640x480 with 1 Axes>"
      ]
     },
     "metadata": {},
     "output_type": "display_data"
    }
   ],
   "source": [
    "# same process for differnt box\n",
    "\n",
    "### given bounding box\n",
    "bounding_box = BoundingBox(x_min=900, x_max=1000, y_min=900, y_max=1000)\n",
    "\n",
    "# findinal all points to delete\n",
    "filtered_points = filter_points(data_points, bounding_box=bounding_box)\n",
    "\n",
    "# deleteting all points that are in the given box\n",
    "st = time.time()\n",
    "for point in filtered_points:\n",
    "    qt.delete(point)\n",
    "ed = time.time()\n",
    "\n",
    "avg_time = (ed-st)/len(filtered_points)\n",
    "print(\"Average Deletion Time for all points in box [900, 1000] X [900, 1000] \", avg_time)\n",
    "\n",
    "# plot as in question 2\n",
    "n_distance = cal_nn_distance([Point(1000, 1000)], epsilons)\n",
    "pd.DataFrame(n_distance).plot(kind='bar', xlabel='epsilon', ylabel='distance', title='ANN Query (1000,1000) result after deletion')\n"
   ]
  },
  {
   "cell_type": "markdown",
   "metadata": {},
   "source": [
    "Deletion futher till we need to reconstruct the tree"
   ]
  },
  {
   "cell_type": "code",
   "execution_count": 12,
   "metadata": {},
   "outputs": [],
   "source": [
    "def sample_n_points(n, ignore_bbox=[], ignore_pts = []):\n",
    "    random_points = []\n",
    "    while len(random_points)!=n:\n",
    "        s = random.choice(data_points)\n",
    "        if s in random_points:\n",
    "            continue\n",
    "        if s in ignore_pts:\n",
    "            continue\n",
    "        for bbox in ignore_bbox:\n",
    "            if bbox.contains_point(s):\n",
    "                break\n",
    "        else:\n",
    "            random_points.append(s)\n",
    "    return random_points"
   ]
  },
  {
   "cell_type": "code",
   "execution_count": 13,
   "metadata": {},
   "outputs": [],
   "source": [
    "## total number of points to delete to trigge rebuild\n",
    "num_del = qt.total_points/2 - qt.deleted_count+1\n",
    "\n",
    "# sample num_del points for deletion\n",
    "points = sample_n_points(num_del, [BoundingBox(x_min=900, x_max=1000, y_min=900, y_max=1000),\n",
    "                          BoundingBox(x_min=450, x_max=550, y_min=450, y_max=550)])"
   ]
  },
  {
   "cell_type": "code",
   "execution_count": null,
   "metadata": {},
   "outputs": [
    {
     "name": "stdout",
     "output_type": "stream",
     "text": [
      "Average del time before reconstruction : 0.00019953625393173132\n"
     ]
    }
   ],
   "source": [
    "# delete points till  total num_of points remaining in quard tree is 499\n",
    "st = time.time()\n",
    "for pt in points:\n",
    "    qt.delete(pt)\n",
    "ed = time.time()\n",
    "\n",
    "print(\"Average del time before reconstruction :\", (ed-st)/len(points))"
   ]
  },
  {
   "cell_type": "code",
   "execution_count": 16,
   "metadata": {},
   "outputs": [
    {
     "data": {
      "text/plain": [
       "4999"
      ]
     },
     "execution_count": 16,
     "metadata": {},
     "output_type": "execute_result"
    }
   ],
   "source": [
    "print(f\"Total number of points remaining in quard tree : {len(qt.points)}\")"
   ]
  },
  {
   "cell_type": "code",
   "execution_count": 17,
   "metadata": {},
   "outputs": [],
   "source": [
    "## Deleting 1000 more points from quard tree\n",
    "\n",
    "r_points = sample_n_points(1000, [BoundingBox(x_min=900, x_max=1000, y_min=900, y_max=1000),\n",
    "                          BoundingBox(x_min=450, x_max=550, y_min=450, y_max=550)], points)\n",
    "\n",
    "# deleting points\n",
    "st = time.time()\n",
    "for pt in r_points:\n",
    "    qt.delete(pt)\n",
    "ed = time.time()\n",
    "\n",
    "print(\"Average del time for 1000 points after reconstruction :\", (ed-st)/len(points))"
   ]
  },
  {
   "cell_type": "code",
   "execution_count": null,
   "metadata": {},
   "outputs": [
    {
     "name": "stdout",
     "output_type": "stream",
     "text": [
      "Average Distance in [0, 1000] x [0, 1000]: 8.056844508089927\n",
      "Average Query Time in [0, 1000] x [0, 1000]: 9.399795532226562e-05 seconds\n",
      "Average Distance in [1000, 1500] x [1000, 1500]: 447.5097972922794\n",
      "Average Query Time in [1000, 1500] x [1000, 1500]: 6.400012969970703e-05 seconds\n"
     ]
    }
   ],
   "source": [
    "## Quering 1000 random query as per given box\n",
    "\n",
    "# Set fixed epsilon\n",
    "ep = 0.1\n",
    "\n",
    "# Run queries for the first region [0, 1000] x [0, 1000]\n",
    "region1_min = (0, 0)\n",
    "region1_max = (1000, 1000)\n",
    "avg_distance_region1, avg_query_time_region1 = run_queries(region1_min, region1_max, ep)\n",
    "\n",
    "print(f\"Average Distance in [0, 1000] x [0, 1000] after deletion and reconstruction: {avg_distance_region1}\")\n",
    "print(f\"Average Query Time in [0, 1000] x [0, 1000] after deletion and reconstruction: {avg_query_time_region1} seconds\")\n",
    "\n",
    "\n",
    "# Run queries for the second region [1000, 1500] x [1000, 1500]\n",
    "region2_min = (1000, 1000)\n",
    "region2_max = (1500, 1500)\n",
    "avg_distance_region2, avg_query_time_region2 = run_queries(region2_min, region2_max, ep)\n",
    "\n",
    "print(f\"Average Distance in [1000, 1500] x [1000, 1500] after deletion and reconstruction: {avg_distance_region2}\")\n",
    "print(f\"Average Query Time in [1000, 1500] x [1000, 1500] after deletion and reconstruction: {avg_query_time_region2} seconds\")\n"
   ]
  },
  {
   "cell_type": "markdown",
   "metadata": {},
   "source": [
    "## Question 4"
   ]
  },
  {
   "cell_type": "code",
   "execution_count": 1,
   "metadata": {},
   "outputs": [],
   "source": [
    "# xreate a dynamic quard tree as given in document\n",
    "qtd = QuardTreeDynamic()"
   ]
  },
  {
   "cell_type": "code",
   "execution_count": 2,
   "metadata": {},
   "outputs": [],
   "source": [
    "## Inserting 6000 points into dynamic quard tree from the given box ([0,1000] X [0,1000])\n",
    "r_points = generate_random_queries(0,1000,0,1000,6000)\n",
    "\n",
    "# insert points \n",
    "for pt in r_points:\n",
    "    qtd.insert(pt)"
   ]
  },
  {
   "cell_type": "code",
   "execution_count": 3,
   "metadata": {},
   "outputs": [
    {
     "name": "stdout",
     "output_type": "stream",
     "text": [
      "{(500, 500): {0.05: 4.821473361721113, 0.1: 4.821473361721113, 0.15: 4.821473361721113, 0.2: 4.821473361721113, 0.25: 4.821473361721113}, (1000, 1000): {0.05: 6.685937420397057, 0.1: 6.685937420397057, 0.15: 6.685937420397057, 0.2: 6.685937420397057, 0.25: 6.685937420397057}, (30, 950): {0.05: 7.182442617250047, 0.1: 7.182442617250047, 0.15: 7.182442617250047, 0.2: 7.182442617250047, 0.25: 7.182442617250047}, (0, 1020): {0.05: 20.618467659652207, 0.1: 20.618467659652207, 0.15: 20.618467659652207, 0.2: 20.618467659652207, 0.25: 20.618467659652207}}\n"
     ]
    }
   ],
   "source": [
    "## Run query for givcen eps and points sample \n",
    "epsilons = [0.05, 0.1, 0.15, 0.2, 0.25]\n",
    "points = [Point(500, 500), Point(1000, 1000), Point(30, 950), Point(0, 1020)]\n",
    "\n",
    "ann_distance = cal_nn_distance(points, epsilons, qtd)\n",
    "# plot\n",
    "pd.DataFrame(ann_distance).plot(kind='bar', xlabel=\"epsilons\", ylabel=\"distances\", title=\"Distance from Query Points after insertions\")"
   ]
  },
  {
   "cell_type": "code",
   "execution_count": 5,
   "metadata": {},
   "outputs": [
    {
     "name": "stdout",
     "output_type": "stream",
     "text": [
      "Average Distance in [0, 1000] x [0, 1000]: 6.470655854193323\n",
      "Average Query Time in [0, 1000] x [0, 1000]: 0.00032520222663879396 seconds\n",
      "Average Distance in [1000, 1500] x [1000, 1500]: 385.4407653448758\n",
      "Average Query Time in [1000, 1500] x [1000, 1500]: 0.0002909998893737793 seconds\n"
     ]
    }
   ],
   "source": [
    "import random\n",
    "import time\n",
    "import numpy as np\n",
    "\n",
    "# Function to generate random queries in a given region\n",
    "def generate_random_queries(x_min, x_max, y_min, y_max, num_queries=1000):\n",
    "    return [Point(random.uniform(x_min, x_max), random.uniform(y_min, y_max)) for _ in range(num_queries)]\n",
    "\n",
    "# Function to run queries and calculate average query time and distance\n",
    "def run_queries(region_min, region_max, ep, tree, num_queries=1000 ):\n",
    "    distances = []\n",
    "    query_times = []\n",
    "\n",
    "    # Generate random queries within the specified region\n",
    "    queries = generate_random_queries(region_min[0], region_max[0], region_min[1], region_max[1], num_queries)\n",
    "\n",
    "    for query in queries:\n",
    "        # Record the start time for query processing\n",
    "        start_time = time.time()\n",
    "\n",
    "        # Search for the nearest neighbor\n",
    "        nearest_point = tree.searchANN(query, ep)\n",
    "\n",
    "        # Record the time it took to process the query\n",
    "        query_time = time.time() - start_time\n",
    "        query_times.append(query_time)\n",
    "\n",
    "        # Calculate and store the distance\n",
    "        distance = query.cal_distance(nearest_point)\n",
    "        distances.append(distance)\n",
    "\n",
    "    # Calculate the average distance and average query time\n",
    "    avg_distance = np.mean(distances)\n",
    "    avg_query_time = np.mean(query_times)\n",
    "\n",
    "    return avg_distance, avg_query_time\n",
    "\n",
    "# Set fixed epsilon\n",
    "ep = 0.1\n",
    "\n",
    "# Run queries for the first region [0, 1000] x [0, 1000]\n",
    "region1_min = (0, 0)\n",
    "region1_max = (1000, 1000)\n",
    "avg_distance_region1, avg_query_time_region1 = run_queries(region1_min, region1_max, ep, qtd)\n",
    "print(f\"Average Distance in [0, 1000] x [0, 1000] from dynamic quard tree: {avg_distance_region1}\")\n",
    "print(f\"Average Query Time in [0, 1000] x [0, 1000] from dynamic quard tree: {avg_query_time_region1} seconds\")\n",
    "\n",
    "\n",
    "# Run queries for the second region [1000, 1500] x [1000, 1500]\n",
    "region2_min = (1000, 1000)\n",
    "region2_max = (1500, 1500)\n",
    "avg_distance_region2, avg_query_time_region2 = run_queries(region2_min, region2_max, ep, qtd)\n",
    "\n",
    "\n",
    "print(f\"Average Distance in [1000, 1500] x [1000, 1500] from dynamic quard tree: {avg_distance_region2}\")\n",
    "print(f\"Average Query Time in [1000, 1500] x [1000, 1500] from dynamic quard tree: {avg_query_time_region2} seconds\")\n"
   ]
  },
  {
   "cell_type": "code",
   "execution_count": 7,
   "metadata": {},
   "outputs": [],
   "source": [
    "# add 20k points from box [1000, 2000] X [1000, 2000] into dynamic quard tree \n",
    "r_points = generate_random_queries(1000,2000,1000,2000,20000)\n",
    "\n",
    "for pt in r_points:\n",
    "    qtd.insert(pt)"
   ]
  },
  {
   "cell_type": "code",
   "execution_count": null,
   "metadata": {},
   "outputs": [
    {
     "name": "stdout",
     "output_type": "stream",
     "text": [
      "Average Distance in [1000, 2000] x [0, 1000]: 3.4379701956757382\n",
      "Average Query Time in [1000, 2000] x [0, 1000]: 0.00038608789443969724 seconds\n"
     ]
    }
   ],
   "source": [
    "region_min = (1000, 1000)\n",
    "region_max = (2000, 2000)\n",
    "avg_distance_region, avg_query_time_region = run_queries(region_min, region_max, ep, qtd)\n",
    "# Output the results\n",
    "print(f\"Average Distance in [1000, 2000] x[1000, 2000] after insertion 20k values: {avg_distance_region}\")\n",
    "print(f\"Average Query Time in [1000, 2000] x [1000, 2000] after insertion 20k values: {avg_query_time_region} seconds\")"
   ]
  },
  {
   "cell_type": "code",
   "execution_count": null,
   "metadata": {},
   "outputs": [],
   "source": []
  }
 ],
 "metadata": {
  "kernelspec": {
   "display_name": "base",
   "language": "python",
   "name": "python3"
  },
  "language_info": {
   "codemirror_mode": {
    "name": "ipython",
    "version": 3
   },
   "file_extension": ".py",
   "mimetype": "text/x-python",
   "name": "python",
   "nbconvert_exporter": "python",
   "pygments_lexer": "ipython3",
   "version": "3.12.7"
  }
 },
 "nbformat": 4,
 "nbformat_minor": 2
}
