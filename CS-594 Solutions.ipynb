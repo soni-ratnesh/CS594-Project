{
 "cells": [
  {
   "cell_type": "markdown",
   "metadata": {},
   "source": [
    "# CS 594 Project "
   ]
  },
  {
   "cell_type": "code",
   "execution_count": 1,
   "metadata": {},
   "outputs": [],
   "source": [
    "## import lib \n",
    "\n",
    "from helper import read_csv, calculate_spread, calculate_height, filter_points, cal_nn_distance, run_queries, generate_random_queries, sample_n_points\n",
    "\n",
    "from tree import QuardTree\n",
    "from tree.points import Point\n",
    "from tree.boundingBox import BoundingBox\n",
    "from tree.quardtreeDynamic import QuardTreeDynamic\n",
    "\n",
    "\n",
    "import time\n",
    "import random\n",
    "import numpy as np\n",
    "import pandas as pd\n",
    "\n"
   ]
  },
  {
   "cell_type": "markdown",
   "metadata": {},
   "source": [
    "## Problem 1: Quad-Tree Construction and Properties [25 Points]\n",
    "\n",
    "1. **Task**:\n",
    "   - Implement a quad-tree (not compressed) for approximate nearest neighbor (ANN) queries in any dimension.\n",
    "   - Input data:\n",
    "     - A text file with the first line as the dimension `d`.\n",
    "     - Subsequent lines as tuples representing points in \\( \\mathbb{R}^d \\).\n",
    "\n",
    "2. **Requirements**:\n",
    "   - Construct the quad-tree for the input dataset.\n",
    "   - **Metrics to Report**:\n",
    "     - Construction time.\n",
    "     - Spread of the point set.\n",
    "     - Height of the tree.\n",
    "   - Describe the relationship between the spread and the height."
   ]
  },
  {
   "cell_type": "code",
   "execution_count": 2,
   "metadata": {},
   "outputs": [
    {
     "name": "stdout",
     "output_type": "stream",
     "text": [
      "Construction Time : 0.07299923896789551 seconds\n"
     ]
    }
   ],
   "source": [
    "# reading csv file\n",
    "dim, data_points = read_csv(\"./sample_data/data.csv\")\n",
    "\n",
    "# building quard tree\n",
    "st = time.time()\n",
    "qt = QuardTree()\n",
    "qt.build(points=data_points)\n",
    "ed = time.time()\n",
    "\n",
    "print(f\"Construction Time : {ed-st} seconds\")"
   ]
  },
  {
   "cell_type": "code",
   "execution_count": 3,
   "metadata": {},
   "outputs": [
    {
     "name": "stdout",
     "output_type": "stream",
     "text": [
      "Spread of dataset : 15550.613705736101\n",
      "Height of tree: 14\n",
      "Relationship between spread and height, ceil(log(spread)): 14.0 == height of tree (14)\n"
     ]
    }
   ],
   "source": [
    "## calculating spread and height\n",
    "spread = calculate_spread(data_points)\n",
    "print(f\"Spread of dataset : {spread}\")\n",
    "\n",
    "height = calculate_height(qt.root)\n",
    "print(f\"Height of tree: {height}\")\n",
    "\n",
    "print(f\"Relationship between spread and height, ceil(log(spread)): {np.ceil(np.log2(spread))} == height of tree ({height})\")"
   ]
  },
  {
   "cell_type": "markdown",
   "metadata": {},
   "source": [
    "## Problem 2: Approximate Nearest Neighbor Queries [25 Points]\n",
    "\n",
    "1. **Task**:\n",
    "   - Implement \\( (1+\\epsilon) \\)-approximate nearest neighbor queries for \\( \\epsilon = \\{0.05, 0.1, 0.15, 0.2, 0.25\\} \\).\n",
    "   - Use query points:\n",
    "     - \\( q_0 = (500, 500) \\)\n",
    "     - \\( q_1 = (1000, 1000) \\)\n",
    "     - \\( q_2 = (30, 950) \\)\n",
    "     - \\( q_3 = (0, 1020) \\)\n",
    "\n",
    "2. **Visualizations**:\n",
    "   - Plot:\n",
    "     - \\( \\epsilon \\) (x-axis)\n",
    "     - Distance between query point and nearest neighbor (y-axis).\n",
    "\n",
    "3. **Experiments**:\n",
    "   - **Experiment 1**:\n",
    "     - Fix \\( \\epsilon = 0.1 \\).\n",
    "     - Run 1000 random queries in the box \\([0, 1000] \\times [0, 1000]\\).\n",
    "     - Report:\n",
    "       - Average query time.\n",
    "       - Average distance between query point and nearest neighbor.\n",
    "   - **Experiment 2**:\n",
    "     - Repeat the above for box \\([1000, 1500] \\times [1000, 1500]\\)."
   ]
  },
  {
   "cell_type": "code",
   "execution_count": 4,
   "metadata": {},
   "outputs": [
    {
     "data": {
      "text/plain": [
       "<Axes: title={'center': 'Query Points'}, xlabel='epsilons', ylabel='distances'>"
      ]
     },
     "execution_count": 4,
     "metadata": {},
     "output_type": "execute_result"
    },
    {
     "data": {
      "image/png": "[encoded data removed]",
      "text/plain": [
       "<Figure size 640x480 with 1 Axes>"
      ]
     },
     "metadata": {},
     "output_type": "display_data"
    }
   ],
   "source": [
    "## sample eps and point as given in question\n",
    "epsilons = [0.05, 0.1, 0.15, 0.2, 0.25]\n",
    "points = [Point(500, 500), Point(1000, 1000), Point(30, 950), Point(0, 1020)]\n",
    "\n",
    "distance_ann = cal_nn_distance(points, epsilons, qt)\n",
    "\n",
    "# plot distance \n",
    "pd.DataFrame(distance_ann).plot(kind='bar', xlabel=\"epsilons\", ylabel=\"distances\", title=\"Query Points\")"
   ]
  },
  {
   "cell_type": "code",
   "execution_count": 5,
   "metadata": {},
   "outputs": [
    {
     "name": "stdout",
     "output_type": "stream",
     "text": [
      "Average Distance in [0, 1000] x [0, 1000]: 5.001824605561851\n",
      "Average Query Time in [0, 1000] x [0, 1000]: 0.00011699962615966798 seconds\n",
      "Average Distance in [1000, 1500] x [1000, 1500]: 395.00819943267607\n",
      "Average Query Time in [1000, 1500] x [1000, 1500]: 8.499932289123535e-05 seconds\n"
     ]
    }
   ],
   "source": [
    "# running random quertines in given boxes for eps=0.1\n",
    "\n",
    "# Set fixed epsilon\n",
    "ep = 0.1\n",
    "\n",
    "# Run queries for the first region [0, 1000] x [0, 1000]\n",
    "region1_min = (0, 0)\n",
    "region1_max = (1000, 1000)\n",
    "avg_distance_region1, avg_query_time_region1 = run_queries(region1_min, region1_max, ep, qt)\n",
    "\n",
    "# Output the results\n",
    "print(f\"Average Distance in [0, 1000] x [0, 1000]: {avg_distance_region1}\")\n",
    "print(f\"Average Query Time in [0, 1000] x [0, 1000]: {avg_query_time_region1} seconds\")\n",
    "\n",
    "# Run queries for the second region [1000, 1500] x [1000, 1500]\n",
    "region2_min = (1000, 1000)\n",
    "region2_max = (1500, 1500)\n",
    "avg_distance_region2, avg_query_time_region2 = run_queries(region2_min, region2_max, ep, qt)\n",
    "\n",
    "\n",
    "print(f\"Average Distance in [1000, 1500] x [1000, 1500]: {avg_distance_region2}\")\n",
    "print(f\"Average Query Time in [1000, 1500] x [1000, 1500]: {avg_query_time_region2} seconds\")\n"
   ]
  },
  {
   "cell_type": "markdown",
   "metadata": {},
   "source": [
    "## Problem 3: Deletion in Quad-Tree [25 Points]\n",
    "\n",
    "1. **Task**:\n",
    "   - Extend the quad-tree to handle deletions.\n",
    "\n",
    "2. **Experiments**:\n",
    "   - Delete points in box \\([450, 550] \\times [450, 550]\\).\n",
    "     - Report average deletion time.\n",
    "     - Recreate the \\( \\epsilon \\)-NN query figure from Problem 2.\n",
    "   - Repeat for box \\([900, 1000] \\times [900, 1000]\\).\n",
    "   - Delete additional points until the tree is reconstructed:\n",
    "     - Reconstruct the tree and delete 1000 more points.\n",
    "     - Report average deletion time and figures for queries \\( q_0 \\) and \\( q_1 \\).\n",
    "   - Compare query times and distances from Problem 2 for boxes \\([0, 1000] \\times [0, 1000]\\) and \\([1000, 1500] \\times [1000, 1500]\\).\n"
   ]
  },
  {
   "cell_type": "code",
   "execution_count": 6,
   "metadata": {},
   "outputs": [
    {
     "name": "stdout",
     "output_type": "stream",
     "text": [
      "Average Deletion Time for all points in box [450, 550] X [450, 550]  0.00025925150624027957\n"
     ]
    },
    {
     "data": {
      "text/plain": [
       "<Axes: title={'center': 'ANN Query (500,500) result after deletion'}, xlabel='epsilon', ylabel='distance'>"
      ]
     },
     "execution_count": 6,
     "metadata": {},
     "output_type": "execute_result"
    },
    {
     "data": {
      "image/png": "[encoded data removed]",
      "text/plain": [
       "<Figure size 640x480 with 1 Axes>"
      ]
     },
     "metadata": {},
     "output_type": "display_data"
    }
   ],
   "source": [
    "## Delete all outputs for given boxes\n",
    "\n",
    "### given bounding box\n",
    "bounding_box = BoundingBox(x_min=450, x_max=550, y_min=450, y_max=550)\n",
    "# findinal all points to delete\n",
    "filtered_points = filter_points(data_points, bounding_box=bounding_box)\n",
    "\n",
    "# deleteting all points that are in the given box\n",
    "st = time.time()\n",
    "for point in filtered_points:\n",
    "    qt.delete(point)\n",
    "ed = time.time()\n",
    "\n",
    "avg_time = (ed-st)/len(filtered_points)\n",
    "print(\"Average Deletion Time for all points in box [450, 550] X [450, 550] \", avg_time)\n",
    "\n",
    "# plot as in question 2\n",
    "n_distance = cal_nn_distance([Point(500, 500)], epsilons, qt)\n",
    "pd.DataFrame(n_distance).plot(kind='bar', xlabel='epsilon', ylabel='distance', title='ANN Query (500,500) result after deletion')"
   ]
  },
  {
   "cell_type": "code",
   "execution_count": 7,
   "metadata": {},
   "outputs": [
    {
     "name": "stdout",
     "output_type": "stream",
     "text": [
      "Average Deletion Time for all points in box [900, 1000] X [900, 1000]  0.0002678377287728446\n"
     ]
    },
    {
     "data": {
      "text/plain": [
       "<Axes: title={'center': 'ANN Query (1000,1000) result after deletion'}, xlabel='epsilon', ylabel='distance'>"
      ]
     },
     "execution_count": 7,
     "metadata": {},
     "output_type": "execute_result"
    },
    {
     "data": {
      "image/png": "[encoded data removed]",
      "text/plain": [
       "<Figure size 640x480 with 1 Axes>"
      ]
     },
     "metadata": {},
     "output_type": "display_data"
    }
   ],
   "source": [
    "# same process for differnt box\n",
    "\n",
    "### given bounding box\n",
    "bounding_box = BoundingBox(x_min=900, x_max=1000, y_min=900, y_max=1000)\n",
    "\n",
    "# findinal all points to delete\n",
    "filtered_points = filter_points(data_points, bounding_box=bounding_box)\n",
    "\n",
    "# deleteting all points that are in the given box\n",
    "st = time.time()\n",
    "for point in filtered_points:\n",
    "    qt.delete(point)\n",
    "ed = time.time()\n",
    "\n",
    "avg_time = (ed-st)/len(filtered_points)\n",
    "print(\"Average Deletion Time for all points in box [900, 1000] X [900, 1000] \", avg_time)\n",
    "\n",
    "# plot as in question 2\n",
    "n_distance = cal_nn_distance([Point(1000, 1000)], epsilons, qt)\n",
    "pd.DataFrame(n_distance).plot(kind='bar', xlabel='epsilon', ylabel='distance', title='ANN Query (1000,1000) result after deletion')\n"
   ]
  },
  {
   "cell_type": "markdown",
   "metadata": {},
   "source": [
    "Deletion futher till we need to reconstruct the tree"
   ]
  },
  {
   "cell_type": "code",
   "execution_count": 8,
   "metadata": {},
   "outputs": [],
   "source": [
    "## total number of points to delete to trigge rebuild\n",
    "num_del = qt.total_points/2 - qt.deleted_count+1\n",
    "\n",
    "# sample num_del points for deletion\n",
    "points = sample_n_points(data_points, num_del, [BoundingBox(x_min=900, x_max=1000, y_min=900, y_max=1000),\n",
    "                          BoundingBox(x_min=450, x_max=550, y_min=450, y_max=550)])"
   ]
  },
  {
   "cell_type": "code",
   "execution_count": 9,
   "metadata": {},
   "outputs": [
    {
     "name": "stdout",
     "output_type": "stream",
     "text": [
      "Average del time before reconstruction : 0.00020569444475650688\n"
     ]
    }
   ],
   "source": [
    "# delete points till  total num_of points remaining in quard tree is 499\n",
    "st = time.time()\n",
    "for pt in points:\n",
    "    qt.delete(pt)\n",
    "ed = time.time()\n",
    "\n",
    "print(\"Average del time before reconstruction :\", (ed-st)/len(points))"
   ]
  },
  {
   "cell_type": "code",
   "execution_count": 10,
   "metadata": {},
   "outputs": [
    {
     "name": "stdout",
     "output_type": "stream",
     "text": [
      "Total number of points remaining in quard tree : 4999\n"
     ]
    }
   ],
   "source": [
    "print(f\"Total number of points remaining in quard tree : {len(qt.points)}\")"
   ]
  },
  {
   "cell_type": "code",
   "execution_count": 11,
   "metadata": {},
   "outputs": [
    {
     "name": "stdout",
     "output_type": "stream",
     "text": [
      "Average del time for 1000 points after reconstruction : 2.6177771543763317e-05\n"
     ]
    }
   ],
   "source": [
    "## Deleting 1000 more points from quard tree\n",
    "\n",
    "r_points = sample_n_points(data_points, 1000, [BoundingBox(x_min=900, x_max=1000, y_min=900, y_max=1000),\n",
    "                          BoundingBox(x_min=450, x_max=550, y_min=450, y_max=550)], points)\n",
    "\n",
    "# deleting points\n",
    "st = time.time()\n",
    "for pt in r_points:\n",
    "    qt.delete(pt)\n",
    "ed = time.time()\n",
    "\n",
    "print(\"Average del time for 1000 points after reconstruction :\", (ed-st)/len(points))"
   ]
  },
  {
   "cell_type": "code",
   "execution_count": 12,
   "metadata": {},
   "outputs": [
    {
     "name": "stdout",
     "output_type": "stream",
     "text": [
      "Total number of points remaining in quard tree : 3999\n"
     ]
    }
   ],
   "source": [
    "print(f\"Total number of points remaining in quard tree : {len(qt.points)}\")"
   ]
  },
  {
   "cell_type": "code",
   "execution_count": 13,
   "metadata": {},
   "outputs": [
    {
     "name": "stdout",
     "output_type": "stream",
     "text": [
      "Average Distance in [0, 1000] x [0, 1000] after deletion and reconstruction: 8.472729284018369\n",
      "Average Query Time in [0, 1000] x [0, 1000] after deletion and reconstruction: 9.2193603515625e-05 seconds\n",
      "Average Distance in [1000, 1500] x [1000, 1500] after deletion and reconstruction: 451.03535570050195\n",
      "Average Query Time in [1000, 1500] x [1000, 1500] after deletion and reconstruction: 7.255887985229492e-05 seconds\n"
     ]
    }
   ],
   "source": [
    "## Quering 1000 random query as per given box\n",
    "\n",
    "# Set fixed epsilon\n",
    "ep = 0.1\n",
    "\n",
    "# Run queries for the first region [0, 1000] x [0, 1000]\n",
    "region1_min = (0, 0)\n",
    "region1_max = (1000, 1000)\n",
    "avg_distance_region1, avg_query_time_region1 = run_queries(region1_min, region1_max, ep, qt)\n",
    "\n",
    "print(f\"Average Distance in [0, 1000] x [0, 1000] after deletion and reconstruction: {avg_distance_region1}\")\n",
    "print(f\"Average Query Time in [0, 1000] x [0, 1000] after deletion and reconstruction: {avg_query_time_region1} seconds\")\n",
    "\n",
    "\n",
    "# Run queries for the second region [1000, 1500] x [1000, 1500]\n",
    "region2_min = (1000, 1000)\n",
    "region2_max = (1500, 1500)\n",
    "avg_distance_region2, avg_query_time_region2 = run_queries(region2_min, region2_max, ep, qt)\n",
    "\n",
    "print(f\"Average Distance in [1000, 1500] x [1000, 1500] after deletion and reconstruction: {avg_distance_region2}\")\n",
    "print(f\"Average Query Time in [1000, 1500] x [1000, 1500] after deletion and reconstruction: {avg_query_time_region2} seconds\")\n"
   ]
  },
  {
   "cell_type": "markdown",
   "metadata": {},
   "source": [
    "## Problem 4: Insertion in Quad-Tree [25 Points]\n",
    "\n",
    "1. **Task**:\n",
    "   - Implement insertion into the quad-tree as per [Section 1.1](https://jeffe.cs.illinois.edu/teaching/datastructures/notes/01-statictodynamic.pdf).\n",
    "\n",
    "2. **Experiments**:\n",
    "   - Insert 6000 random points into the box \\([0, 1000] \\times [0, 1000]\\).\n",
    "   - Run \\( \\epsilon \\)-NN queries for query points \\( q_0, q_1, q_2, q_3 \\) with \\( \\epsilon = \\{0.05, 0.1, 0.15, 0.2, 0.25\\} \\).\n",
    "     - Plot distances against \\( \\epsilon \\).\n",
    "   - Fix \\( \\epsilon = 0.1 \\) and:\n",
    "     - Run 1000 random queries in \\([0, 1000] \\times [0, 1000]\\).\n",
    "     - Run 1000 random queries in \\([1000, 1500] \\times [1000, 1500]\\).\n",
    "   - Insert 20000 points in box \\([1000, 2000] \\times [1000, 2000]\\).\n",
    "     - Run 1000 random queries in \\([1000, 2000] \\times [1000, 2000]\\).\n",
    "     - Compare results with queries above."
   ]
  },
  {
   "cell_type": "code",
   "execution_count": 14,
   "metadata": {},
   "outputs": [],
   "source": [
    "# xreate a dynamic quard tree as given in document\n",
    "qtd = QuardTreeDynamic()"
   ]
  },
  {
   "cell_type": "code",
   "execution_count": 15,
   "metadata": {},
   "outputs": [],
   "source": [
    "## Inserting 6000 points into dynamic quard tree from the given box ([0,1000] X [0,1000])\n",
    "r_points = generate_random_queries(0,1000,0,1000,6000)\n",
    "\n",
    "# insert points \n",
    "for pt in r_points:\n",
    "    qtd.insert(pt)"
   ]
  },
  {
   "cell_type": "code",
   "execution_count": 16,
   "metadata": {},
   "outputs": [
    {
     "data": {
      "text/plain": [
       "<Axes: title={'center': 'Distance from Query Points after insertions'}, xlabel='epsilons', ylabel='distances'>"
      ]
     },
     "execution_count": 16,
     "metadata": {},
     "output_type": "execute_result"
    },
    {
     "data": {
      "image/png": "[encoded data removed]",
      "text/plain": [
       "<Figure size 640x480 with 1 Axes>"
      ]
     },
     "metadata": {},
     "output_type": "display_data"
    }
   ],
   "source": [
    "## Run query for givcen eps and points sample \n",
    "epsilons = [0.05, 0.1, 0.15, 0.2, 0.25]\n",
    "points = [Point(500, 500), Point(1000, 1000), Point(30, 950), Point(0, 1020)]\n",
    "\n",
    "ann_distance = cal_nn_distance(points, epsilons, qtd)\n",
    "# plot\n",
    "pd.DataFrame(ann_distance).plot(kind='bar', xlabel=\"epsilons\", ylabel=\"distances\", title=\"Distance from Query Points after insertions\")"
   ]
  },
  {
   "cell_type": "code",
   "execution_count": 17,
   "metadata": {},
   "outputs": [
    {
     "name": "stdout",
     "output_type": "stream",
     "text": [
      "Average Distance in [0, 1000] x [0, 1000] from dynamic quard tree: 6.583680799034475\n",
      "Average Query Time in [0, 1000] x [0, 1000] from dynamic quard tree: 0.0003131179809570312 seconds\n",
      "Average Distance in [1000, 1500] x [1000, 1500] from dynamic quard tree: 399.60737353242234\n",
      "Average Query Time in [1000, 1500] x [1000, 1500] from dynamic quard tree: 0.0002911257743835449 seconds\n"
     ]
    }
   ],
   "source": [
    "# query 1000 sample ANN for given regions \n",
    "ep = 0.1\n",
    "\n",
    "# Run queries for the first region [0, 1000] x [0, 1000]\n",
    "region1_min = (0, 0)\n",
    "region1_max = (1000, 1000)\n",
    "avg_distance_region1, avg_query_time_region1 = run_queries(region1_min, region1_max, ep, qtd)\n",
    "print(f\"Average Distance in [0, 1000] x [0, 1000] from dynamic quard tree: {avg_distance_region1}\")\n",
    "print(f\"Average Query Time in [0, 1000] x [0, 1000] from dynamic quard tree: {avg_query_time_region1} seconds\")\n",
    "\n",
    "\n",
    "# Run queries for the second region [1000, 1500] x [1000, 1500]\n",
    "region2_min = (1000, 1000)\n",
    "region2_max = (1500, 1500)\n",
    "avg_distance_region2, avg_query_time_region2 = run_queries(region2_min, region2_max, ep, qtd)\n",
    "\n",
    "\n",
    "print(f\"Average Distance in [1000, 1500] x [1000, 1500] from dynamic quard tree: {avg_distance_region2}\")\n",
    "print(f\"Average Query Time in [1000, 1500] x [1000, 1500] from dynamic quard tree: {avg_query_time_region2} seconds\")\n"
   ]
  },
  {
   "cell_type": "code",
   "execution_count": 18,
   "metadata": {},
   "outputs": [],
   "source": [
    "# add 20k points from box [1000, 2000] X [1000, 2000] into dynamic quard tree \n",
    "r_points = generate_random_queries(1000,2000,1000,2000,20000)\n",
    "\n",
    "for pt in r_points:\n",
    "    qtd.insert(pt)"
   ]
  },
  {
   "cell_type": "code",
   "execution_count": 19,
   "metadata": {},
   "outputs": [
    {
     "name": "stdout",
     "output_type": "stream",
     "text": [
      "Average Distance in [1000, 2000] x[1000, 2000] after insertion 20k values: 3.505414572702741\n",
      "Average Query Time in [1000, 2000] x [1000, 2000] after insertion 20k values: 0.0003958251476287842 seconds\n"
     ]
    }
   ],
   "source": [
    "region_min = (1000, 1000)\n",
    "region_max = (2000, 2000)\n",
    "avg_distance_region, avg_query_time_region = run_queries(region_min, region_max, ep, qtd)\n",
    "# Output the results\n",
    "print(f\"Average Distance in [1000, 2000] x[1000, 2000] after insertion 20k values: {avg_distance_region}\")\n",
    "print(f\"Average Query Time in [1000, 2000] x [1000, 2000] after insertion 20k values: {avg_query_time_region} seconds\")"
   ]
  },
  {
   "cell_type": "code",
   "execution_count": null,
   "metadata": {},
   "outputs": [],
   "source": []
  }
 ],
 "metadata": {
  "kernelspec": {
   "display_name": "base",
   "language": "python",
   "name": "python3"
  },
  "language_info": {
   "codemirror_mode": {
    "name": "ipython",
    "version": 3
   },
   "file_extension": ".py",
   "mimetype": "text/x-python",
   "name": "python",
   "nbconvert_exporter": "python",
   "pygments_lexer": "ipython3",
   "version": "3.12.7"
  }
 },
 "nbformat": 4,
 "nbformat_minor": 2
}
